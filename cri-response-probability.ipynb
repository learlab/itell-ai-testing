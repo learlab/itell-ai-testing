{
 "cells": [
  {
   "cell_type": "code",
   "execution_count": 1,
   "id": "63e7ed41-a3d4-4d29-b4f7-42ea4593a007",
   "metadata": {},
   "outputs": [],
   "source": [
    "import transformers\n",
    "import torch\n",
    "from pathlib import Path\n",
    "import srsly\n",
    "import random\n",
    "from tqdm.auto import tqdm\n",
    "\n",
    "transformers.utils.logging.set_verbosity_error()"
   ]
  },
  {
   "cell_type": "code",
   "execution_count": 3,
   "id": "b20315b3-8a78-4120-8499-5b3fe4f23f56",
   "metadata": {},
   "outputs": [],
   "source": [
    "inputs = list(srsly.read_jsonl(\"testing-data/cri.jsonl\"))"
   ]
  },
  {
   "cell_type": "code",
   "execution_count": 2,
   "id": "7d10b44f-bfdd-45bb-8faa-d892d9f4da3e",
   "metadata": {},
   "outputs": [
    {
     "data": {
      "application/vnd.jupyter.widget-view+json": {
       "model_id": "bd12a1e9110a4131ad8af56375293074",
       "version_major": 2,
       "version_minor": 0
      },
      "text/plain": [
       "Loading checkpoint shards:   0%|          | 0/4 [00:00<?, ?it/s]"
      ]
     },
     "metadata": {},
     "output_type": "display_data"
    }
   ],
   "source": [
    "model = transformers.AutoModelForCausalLM.from_pretrained('meta-llama/Meta-Llama-3-8B-Instruct').to('cuda')\n",
    "tokenizer = transformers.AutoTokenizer.from_pretrained('meta-llama/Meta-Llama-3-8B-Instruct', model_max_length=1024)\n",
    "model.eval();"
   ]
  },
  {
   "cell_type": "code",
   "execution_count": 36,
   "id": "6d4d0202-f064-4606-810e-b95a18bd5f97",
   "metadata": {},
   "outputs": [],
   "source": [
    "def tokenize(chunk, question, answer):\n",
    "    prompt = (\n",
    "        \"<|begin_of_text|><|start_header_id|>system<|end_header_id|>\"\n",
    "        \"\\nYou are an excellent student who has just read the following excerpt.\"\n",
    "        \" The teacher will ask you a question. You will answer accurately.\"\n",
    "        f\"\\n\\nExcerpt:\\n\\n{chunk}<|eot_id|>\"\n",
    "        \"\\n<|start_header_id|>user<|end_header_id|>\"\n",
    "        f\"{question}<|eot_id|>\"\n",
    "        \"\\n<|start_header_id|>assistant<|end_header_id|>\"\n",
    "    )\n",
    "\n",
    "    # Inputs\n",
    "    # Construct inputs separately, so we know where the prompt ends.\n",
    "    prompt_encoding = tokenizer(prompt, return_tensors=\"pt\", return_length=True)\n",
    "    answer_encoding = tokenizer(answer, return_tensors=\"pt\")\n",
    "    input_ids = torch.cat((prompt_encoding.input_ids, answer_encoding.input_ids), 1).to('cuda')\n",
    "\n",
    "    # Targets\n",
    "    target_ids = input_ids.clone()\n",
    "    prompt_length = prompt_encoding.length.item()\n",
    "    # Setting targets to -100 will ignore them when calculating loss\n",
    "    # Do this for all tokens before the answer.\n",
    "    target_ids[:, :prompt_length] = -100\n",
    "\n",
    "    return input_ids, target_ids"
   ]
  },
  {
   "cell_type": "code",
   "execution_count": 42,
   "id": "879e81df-9ad1-4ed3-8dba-9c3b4e0d1d75",
   "metadata": {},
   "outputs": [
    {
     "data": {
      "application/vnd.jupyter.widget-view+json": {
       "model_id": "86461be2991b4436b19b65f582e1b1ba",
       "version_major": 2,
       "version_minor": 0
      },
      "text/plain": [
       "  0%|          | 0/2540 [00:00<?, ?it/s]"
      ]
     },
     "metadata": {},
     "output_type": "display_data"
    }
   ],
   "source": [
    "def get_loss(input_ids, target_ids):\n",
    "    with torch.no_grad():\n",
    "        outputs = model(input_ids, labels=target_ids)\n",
    "\n",
    "    # loss is calculated using CrossEntropyLoss which averages over valid labels\n",
    "    return outputs.loss\n",
    "\n",
    "outputs = []\n",
    "for cri_input in tqdm(inputs):\n",
    "    input_ids, target_ids = tokenize(cri_input[\"Chunk\"], cri_input[\"Question\"], cri_input[\"answer\"])\n",
    "    loss = get_loss(input_ids, target_ids)\n",
    "    # print(f'Score: {cri_input[\"score\"]} | Loss: {loss.item()}')\n",
    "    cri_input[\"Loss\"] = loss.item()\n",
    "    outputs.append(cri_input)"
   ]
  },
  {
   "cell_type": "code",
   "execution_count": 44,
   "id": "b9a2b6c5-9674-4f29-b1d0-2b939f016b69",
   "metadata": {},
   "outputs": [
    {
     "data": {
      "text/html": [
       "<div>\n",
       "<style scoped>\n",
       "    .dataframe tbody tr th:only-of-type {\n",
       "        vertical-align: middle;\n",
       "    }\n",
       "\n",
       "    .dataframe tbody tr th {\n",
       "        vertical-align: top;\n",
       "    }\n",
       "\n",
       "    .dataframe thead th {\n",
       "        text-align: right;\n",
       "    }\n",
       "</style>\n",
       "<table border=\"1\" class=\"dataframe\">\n",
       "  <thead>\n",
       "    <tr style=\"text-align: right;\">\n",
       "      <th></th>\n",
       "      <th>page_slug</th>\n",
       "      <th>chunk_slug</th>\n",
       "      <th>answer</th>\n",
       "      <th>score</th>\n",
       "      <th>Chunk</th>\n",
       "      <th>Question</th>\n",
       "      <th>Loss</th>\n",
       "    </tr>\n",
       "  </thead>\n",
       "  <tbody>\n",
       "    <tr>\n",
       "      <th>0</th>\n",
       "      <td>learning-analytics-for-self-regulated-learning</td>\n",
       "      <td>LEARNING-ANALYTICS-498t</td>\n",
       "      <td>multiple actors: authors, instructional design...</td>\n",
       "      <td>2</td>\n",
       "      <td>Who generates data? Who receives learning anal...</td>\n",
       "      <td>Who generates data and receives learning analy...</td>\n",
       "      <td>3.971895</td>\n",
       "    </tr>\n",
       "    <tr>\n",
       "      <th>1</th>\n",
       "      <td>learning-analytics-for-self-regulated-learning</td>\n",
       "      <td>Learner-History-462t</td>\n",
       "      <td>content highlighted, notes, marginalia, a pile...</td>\n",
       "      <td>2</td>\n",
       "      <td>Instruments for tracing the history of a learn...</td>\n",
       "      <td>What are some examples of traces in a paper-ba...</td>\n",
       "      <td>1.766487</td>\n",
       "    </tr>\n",
       "    <tr>\n",
       "      <th>2</th>\n",
       "      <td>learning-analytics-for-self-regulated-learning</td>\n",
       "      <td>Learner-History-501t</td>\n",
       "      <td>encourage learners to use the tools without di...</td>\n",
       "      <td>1</td>\n",
       "      <td>Software Tools for Studying. Data about motiva...</td>\n",
       "      <td>What is the purpose of operationalizing indica...</td>\n",
       "      <td>4.740575</td>\n",
       "    </tr>\n",
       "    <tr>\n",
       "      <th>3</th>\n",
       "      <td>learning-analytics-for-self-regulated-learning</td>\n",
       "      <td>Learner-History-501t</td>\n",
       "      <td>encourage learners to use software tools witho...</td>\n",
       "      <td>1</td>\n",
       "      <td>Software Tools for Studying. Data about motiva...</td>\n",
       "      <td>What is the purpose of operationalizing indica...</td>\n",
       "      <td>3.924935</td>\n",
       "    </tr>\n",
       "    <tr>\n",
       "      <th>4</th>\n",
       "      <td>learning-analytics-for-self-regulated-learning</td>\n",
       "      <td>LEARNING-ANALYTICS-FOR-SRL-527t</td>\n",
       "      <td>how a learner uses tools in software</td>\n",
       "      <td>2</td>\n",
       "      <td>The third facet of a learning analytic, the re...</td>\n",
       "      <td>How can recommendations in learning analytics ...</td>\n",
       "      <td>4.963944</td>\n",
       "    </tr>\n",
       "    <tr>\n",
       "      <th>...</th>\n",
       "      <td>...</td>\n",
       "      <td>...</td>\n",
       "      <td>...</td>\n",
       "      <td>...</td>\n",
       "      <td>...</td>\n",
       "      <td>...</td>\n",
       "      <td>...</td>\n",
       "    </tr>\n",
       "    <tr>\n",
       "      <th>2535</th>\n",
       "      <td>learning-analytics-for-self-regulated-learning</td>\n",
       "      <td>Learning-Analytics-497t</td>\n",
       "      <td>Demographic, enrollment, attendance, etc</td>\n",
       "      <td>1</td>\n",
       "      <td>Four descriptions of learning analytics guide ...</td>\n",
       "      <td>What data should be gathered for input to meth...</td>\n",
       "      <td>7.770678</td>\n",
       "    </tr>\n",
       "    <tr>\n",
       "      <th>2536</th>\n",
       "      <td>learning-analytics-for-self-regulated-learning</td>\n",
       "      <td>Learning-Analytics-498t</td>\n",
       "      <td>educators and institutions</td>\n",
       "      <td>1</td>\n",
       "      <td>Who generates data? Who receives learning anal...</td>\n",
       "      <td>Who generates data and receives learning analy...</td>\n",
       "      <td>9.952441</td>\n",
       "    </tr>\n",
       "    <tr>\n",
       "      <th>2537</th>\n",
       "      <td>learning-analytics-for-self-regulated-learning</td>\n",
       "      <td>Learning-Analytics-498t</td>\n",
       "      <td>educators and institutions</td>\n",
       "      <td>1</td>\n",
       "      <td>Who generates data? Who receives learning anal...</td>\n",
       "      <td>Who generates data and receives learning analy...</td>\n",
       "      <td>9.952441</td>\n",
       "    </tr>\n",
       "    <tr>\n",
       "      <th>2538</th>\n",
       "      <td>learning-analytics-for-self-regulated-learning</td>\n",
       "      <td>Data-For-Learning-Analytics-About-Learning-And...</td>\n",
       "      <td>granularity, timeliness, contextualization, ac...</td>\n",
       "      <td>0</td>\n",
       "      <td>Features of Traces. Four features describe ide...</td>\n",
       "      <td>What are the four features that describe ideal...</td>\n",
       "      <td>5.339193</td>\n",
       "    </tr>\n",
       "    <tr>\n",
       "      <th>2539</th>\n",
       "      <td>learning-analytics-for-self-regulated-learning</td>\n",
       "      <td>Materials-Studied-526t</td>\n",
       "      <td>?</td>\n",
       "      <td>0</td>\n",
       "      <td>Materials learners work with can be sources of...</td>\n",
       "      <td>What are some ways in which materials learners...</td>\n",
       "      <td>19.435263</td>\n",
       "    </tr>\n",
       "  </tbody>\n",
       "</table>\n",
       "<p>2540 rows × 7 columns</p>\n",
       "</div>"
      ],
      "text/plain": [
       "                                           page_slug  \\\n",
       "0     learning-analytics-for-self-regulated-learning   \n",
       "1     learning-analytics-for-self-regulated-learning   \n",
       "2     learning-analytics-for-self-regulated-learning   \n",
       "3     learning-analytics-for-self-regulated-learning   \n",
       "4     learning-analytics-for-self-regulated-learning   \n",
       "...                                              ...   \n",
       "2535  learning-analytics-for-self-regulated-learning   \n",
       "2536  learning-analytics-for-self-regulated-learning   \n",
       "2537  learning-analytics-for-self-regulated-learning   \n",
       "2538  learning-analytics-for-self-regulated-learning   \n",
       "2539  learning-analytics-for-self-regulated-learning   \n",
       "\n",
       "                                             chunk_slug  \\\n",
       "0                               LEARNING-ANALYTICS-498t   \n",
       "1                                  Learner-History-462t   \n",
       "2                                  Learner-History-501t   \n",
       "3                                  Learner-History-501t   \n",
       "4                       LEARNING-ANALYTICS-FOR-SRL-527t   \n",
       "...                                                 ...   \n",
       "2535                            Learning-Analytics-497t   \n",
       "2536                            Learning-Analytics-498t   \n",
       "2537                            Learning-Analytics-498t   \n",
       "2538  Data-For-Learning-Analytics-About-Learning-And...   \n",
       "2539                             Materials-Studied-526t   \n",
       "\n",
       "                                                 answer  score  \\\n",
       "0     multiple actors: authors, instructional design...      2   \n",
       "1     content highlighted, notes, marginalia, a pile...      2   \n",
       "2     encourage learners to use the tools without di...      1   \n",
       "3     encourage learners to use software tools witho...      1   \n",
       "4                  how a learner uses tools in software      2   \n",
       "...                                                 ...    ...   \n",
       "2535           Demographic, enrollment, attendance, etc      1   \n",
       "2536                         educators and institutions      1   \n",
       "2537                         educators and institutions      1   \n",
       "2538  granularity, timeliness, contextualization, ac...      0   \n",
       "2539                                                  ?      0   \n",
       "\n",
       "                                                  Chunk  \\\n",
       "0     Who generates data? Who receives learning anal...   \n",
       "1     Instruments for tracing the history of a learn...   \n",
       "2     Software Tools for Studying. Data about motiva...   \n",
       "3     Software Tools for Studying. Data about motiva...   \n",
       "4     The third facet of a learning analytic, the re...   \n",
       "...                                                 ...   \n",
       "2535  Four descriptions of learning analytics guide ...   \n",
       "2536  Who generates data? Who receives learning anal...   \n",
       "2537  Who generates data? Who receives learning anal...   \n",
       "2538  Features of Traces. Four features describe ide...   \n",
       "2539  Materials learners work with can be sources of...   \n",
       "\n",
       "                                               Question       Loss  \n",
       "0     Who generates data and receives learning analy...   3.971895  \n",
       "1     What are some examples of traces in a paper-ba...   1.766487  \n",
       "2     What is the purpose of operationalizing indica...   4.740575  \n",
       "3     What is the purpose of operationalizing indica...   3.924935  \n",
       "4     How can recommendations in learning analytics ...   4.963944  \n",
       "...                                                 ...        ...  \n",
       "2535  What data should be gathered for input to meth...   7.770678  \n",
       "2536  Who generates data and receives learning analy...   9.952441  \n",
       "2537  Who generates data and receives learning analy...   9.952441  \n",
       "2538  What are the four features that describe ideal...   5.339193  \n",
       "2539  What are some ways in which materials learners...  19.435263  \n",
       "\n",
       "[2540 rows x 7 columns]"
      ]
     },
     "execution_count": 44,
     "metadata": {},
     "output_type": "execute_result"
    }
   ],
   "source": [
    "import pandas as pd\n",
    "\n",
    "df = pd.DataFrame(outputs)\n",
    "df"
   ]
  },
  {
   "cell_type": "code",
   "execution_count": 45,
   "id": "742733f1-3a5d-430c-89c3-4d2464b3fb8b",
   "metadata": {},
   "outputs": [],
   "source": [
    "df.to_csv(\"output/cri_loss.csv\", index=False)"
   ]
  },
  {
   "cell_type": "code",
   "execution_count": 51,
   "id": "710a5be3-a970-4d63-8b53-077c0b8dba37",
   "metadata": {},
   "outputs": [
    {
     "data": {
      "text/plain": [
       "-0.4009723754468042"
      ]
     },
     "execution_count": 51,
     "metadata": {},
     "output_type": "execute_result"
    }
   ],
   "source": [
    "df.score.corr(df.Loss, method='spearman') "
   ]
  }
 ],
 "metadata": {
  "kernelspec": {
   "display_name": "Python [conda env:hf]",
   "language": "python",
   "name": "conda-env-hf-py"
  },
  "language_info": {
   "codemirror_mode": {
    "name": "ipython",
    "version": 3
   },
   "file_extension": ".py",
   "mimetype": "text/x-python",
   "name": "python",
   "nbconvert_exporter": "python",
   "pygments_lexer": "ipython3",
   "version": "3.11.6"
  }
 },
 "nbformat": 4,
 "nbformat_minor": 5
}
