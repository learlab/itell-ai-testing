{
 "cells": [
  {
   "cell_type": "code",
   "execution_count": 1,
   "id": "b3ed1294-ace5-4c7b-bc31-675914cce57d",
   "metadata": {},
   "outputs": [],
   "source": [
    "import pandas as pd\n",
    "import httpx\n",
    "from dotenv import load_dotenv\n",
    "import os\n",
    "from functools import cache\n",
    "from tqdm.auto import tqdm\n",
    "\n",
    "\n",
    "load_dotenv()\n",
    "out_dir = \"~/active-projects/2024-07-itell-ai-testing/testing-data/\""
   ]
  },
  {
   "cell_type": "markdown",
   "id": "e4292989-7d7d-43ba-af39-2830a596eecc",
   "metadata": {},
   "source": [
    "# Summaries"
   ]
  },
  {
   "cell_type": "code",
   "execution_count": 56,
   "id": "a3ae6e54-23a3-4a47-9e8d-387e7b4ba704",
   "metadata": {},
   "outputs": [
    {
     "data": {
      "text/html": [
       "<div>\n",
       "<style scoped>\n",
       "    .dataframe tbody tr th:only-of-type {\n",
       "        vertical-align: middle;\n",
       "    }\n",
       "\n",
       "    .dataframe tbody tr th {\n",
       "        vertical-align: top;\n",
       "    }\n",
       "\n",
       "    .dataframe thead th {\n",
       "        text-align: right;\n",
       "    }\n",
       "</style>\n",
       "<table border=\"1\" class=\"dataframe\">\n",
       "  <thead>\n",
       "    <tr style=\"text-align: right;\">\n",
       "      <th></th>\n",
       "      <th>page_slug</th>\n",
       "      <th>summary</th>\n",
       "    </tr>\n",
       "  </thead>\n",
       "  <tbody>\n",
       "    <tr>\n",
       "      <th>71</th>\n",
       "      <td>learning-analytics-for-self-regulated-learning</td>\n",
       "      <td>In this paper, Phillip Winne discusses SRL, wh...</td>\n",
       "    </tr>\n",
       "    <tr>\n",
       "      <th>190</th>\n",
       "      <td>learning-analytics-for-self-regulated-learning</td>\n",
       "      <td>The model of SRL introduced in the article gui...</td>\n",
       "    </tr>\n",
       "    <tr>\n",
       "      <th>111</th>\n",
       "      <td>a-practitioner-s-guide-to-measurement-in-learn...</td>\n",
       "      <td>Learning analytics can be used to improve lear...</td>\n",
       "    </tr>\n",
       "    <tr>\n",
       "      <th>117</th>\n",
       "      <td>emotional</td>\n",
       "      <td>incorporating emotion into learning analytics ...</td>\n",
       "    </tr>\n",
       "    <tr>\n",
       "      <th>116</th>\n",
       "      <td>learning-analytics-for-self-regulated-learning</td>\n",
       "      <td>Tracing the work of learners is something that...</td>\n",
       "    </tr>\n",
       "  </tbody>\n",
       "</table>\n",
       "</div>"
      ],
      "text/plain": [
       "                                             page_slug  \\\n",
       "71      learning-analytics-for-self-regulated-learning   \n",
       "190     learning-analytics-for-self-regulated-learning   \n",
       "111  a-practitioner-s-guide-to-measurement-in-learn...   \n",
       "117                                          emotional   \n",
       "116     learning-analytics-for-self-regulated-learning   \n",
       "\n",
       "                                               summary  \n",
       "71   In this paper, Phillip Winne discusses SRL, wh...  \n",
       "190  The model of SRL introduced in the article gui...  \n",
       "111  Learning analytics can be used to improve lear...  \n",
       "117  incorporating emotion into learning analytics ...  \n",
       "116  Tracing the work of learners is something that...  "
      ]
     },
     "metadata": {},
     "output_type": "display_data"
    }
   ],
   "source": [
    "summary_data_path = \"~/active-projects/2024.03-itell-cornell/data/consented_supabase_tables_anonymized/summaries_rows.csv\"\n",
    "summ = pd.read_csv(summary_data_path)\n",
    "summ_out = summ[[\"page_slug\", \"text\"]].rename(columns={\"text\": \"summary\"})\n",
    "display(summ_out.sample(5))\n",
    "summ_out.to_json(out_dir + \"summary.jsonl\", orient=\"records\", lines=True)"
   ]
  },
  {
   "cell_type": "markdown",
   "id": "a3d359f9-68da-44b7-9bb5-c0a2cf1ecf6d",
   "metadata": {},
   "source": [
    "# Constructed Response Items"
   ]
  },
  {
   "cell_type": "code",
   "execution_count": 2,
   "id": "86c26c01-456a-491d-b30e-4b8294c00607",
   "metadata": {},
   "outputs": [
    {
     "data": {
      "text/html": [
       "<div>\n",
       "<style scoped>\n",
       "    .dataframe tbody tr th:only-of-type {\n",
       "        vertical-align: middle;\n",
       "    }\n",
       "\n",
       "    .dataframe tbody tr th {\n",
       "        vertical-align: top;\n",
       "    }\n",
       "\n",
       "    .dataframe thead th {\n",
       "        text-align: right;\n",
       "    }\n",
       "</style>\n",
       "<table border=\"1\" class=\"dataframe\">\n",
       "  <thead>\n",
       "    <tr style=\"text-align: right;\">\n",
       "      <th></th>\n",
       "      <th>page_slug</th>\n",
       "      <th>chunk_slug</th>\n",
       "      <th>answer</th>\n",
       "      <th>score</th>\n",
       "    </tr>\n",
       "  </thead>\n",
       "  <tbody>\n",
       "    <tr>\n",
       "      <th>965</th>\n",
       "      <td>emotional</td>\n",
       "      <td>Introduction-1-476t</td>\n",
       "      <td>confusion, boredom, anxiety, frustration</td>\n",
       "      <td>1</td>\n",
       "    </tr>\n",
       "    <tr>\n",
       "      <th>475</th>\n",
       "      <td>emotional</td>\n",
       "      <td>Core-Themes-3-483t</td>\n",
       "      <td>Only a small reduction and detectors could be ...</td>\n",
       "      <td>2</td>\n",
       "    </tr>\n",
       "    <tr>\n",
       "      <th>355</th>\n",
       "      <td>learning-analytics-for-self-regulated-learning</td>\n",
       "      <td>Data-For-Learning-Analytics-About-Learning-And...</td>\n",
       "      <td>They are ambient data generated by learners th...</td>\n",
       "      <td>2</td>\n",
       "    </tr>\n",
       "    <tr>\n",
       "      <th>354</th>\n",
       "      <td>learning-analytics-for-self-regulated-learning</td>\n",
       "      <td>Introduction-496t</td>\n",
       "      <td>E, the evaluations</td>\n",
       "      <td>2</td>\n",
       "    </tr>\n",
       "    <tr>\n",
       "      <th>315</th>\n",
       "      <td>a-practitioner-s-guide-to-measurement-in-learn...</td>\n",
       "      <td>What-to-Measure-2-490t</td>\n",
       "      <td>Identifying construct of interest, selecting a...</td>\n",
       "      <td>2</td>\n",
       "    </tr>\n",
       "  </tbody>\n",
       "</table>\n",
       "</div>"
      ],
      "text/plain": [
       "                                             page_slug  \\\n",
       "965                                          emotional   \n",
       "475                                          emotional   \n",
       "355     learning-analytics-for-self-regulated-learning   \n",
       "354     learning-analytics-for-self-regulated-learning   \n",
       "315  a-practitioner-s-guide-to-measurement-in-learn...   \n",
       "\n",
       "                                            chunk_slug  \\\n",
       "965                                Introduction-1-476t   \n",
       "475                                 Core-Themes-3-483t   \n",
       "355  Data-For-Learning-Analytics-About-Learning-And...   \n",
       "354                                  Introduction-496t   \n",
       "315                             What-to-Measure-2-490t   \n",
       "\n",
       "                                                answer  score  \n",
       "965           confusion, boredom, anxiety, frustration      1  \n",
       "475  Only a small reduction and detectors could be ...      2  \n",
       "355  They are ambient data generated by learners th...      2  \n",
       "354                                 E, the evaluations      2  \n",
       "315  Identifying construct of interest, selecting a...      2  "
      ]
     },
     "metadata": {},
     "output_type": "display_data"
    }
   ],
   "source": [
    "cri_data_path = \"~/active-projects/2024.03-itell-cornell/data/consented_supabase_tables_anonymized/constructed_responses_rows.csv\"\n",
    "\n",
    "cri = pd.read_csv(cri_data_path)\n",
    "cri_out = cri[[\"page_slug\", \"chunk_slug\", \"response\", \"score\"]].rename(columns={\"response\": \"answer\"})\n",
    "display(cri_out.sample(5))\n",
    "# cri_out.to_json(out_dir + \"cri.jsonl\", orient=\"records\", lines=True)"
   ]
  },
  {
   "cell_type": "markdown",
   "id": "5bf7f5ac-d6ae-4ff7-85c3-3d1ef8fa1a64",
   "metadata": {},
   "source": [
    "### Get Chunks"
   ]
  },
  {
   "cell_type": "code",
   "execution_count": 29,
   "id": "4201a28d-b69d-457e-b88a-9a8c5964b528",
   "metadata": {},
   "outputs": [
    {
     "data": {
      "application/vnd.jupyter.widget-view+json": {
       "model_id": "da71d6e6d4744f46853c97515187e426",
       "version_major": 2,
       "version_minor": 0
      },
      "text/plain": [
       "  0%|          | 0/2540 [00:00<?, ?it/s]"
      ]
     },
     "metadata": {},
     "output_type": "display_data"
    }
   ],
   "source": [
    "headers = {\"Authorization\": f\"Bearer {os.getenv('STRAPI_KEY')}\"}\n",
    "\n",
    "url = \"https://itell-strapi-um5h.onrender.com/api\"\n",
    "\n",
    "def build_query(page_slug, chunk_slug) -> dict:\n",
    "    return {\n",
    "        \"filters[slug][$eq]\":page_slug,\n",
    "        \"populate[Content][filters][Slug][$eqi]\":chunk_slug,\n",
    "        }\n",
    "\n",
    "@cache\n",
    "def call_api(page_slug, chunk_slug):\n",
    "    try:\n",
    "        with httpx.Client() as client:\n",
    "            querystring = build_query(page_slug, chunk_slug)\n",
    "            r = client.get(url + \"/pages\", params=querystring, headers=headers)\n",
    "            chunk_json = r.json()\n",
    "            chunk = chunk_json[\"data\"][0][\"attributes\"][\"Content\"][0]\n",
    "            return (chunk[\"CleanText\"], chunk[\"Question\"])\n",
    "    except (httpx.HTTPError, ValueError):\n",
    "        return (None, None)\n",
    "\n",
    "def collect_chunks():\n",
    "    page_chunk_slugs = list(cri_out[[\"page_slug\", \"chunk_slug\"]].itertuples())\n",
    "    chunks = []\n",
    "    for ind, page_slug, chunk_slug in tqdm(page_chunk_slugs):\n",
    "        clean_text, question = call_api(page_slug, chunk_slug)\n",
    "        chunks.append((ind, clean_text, question))\n",
    "    chunk_df = pd.DataFrame(chunks, columns=[0, \"Chunk\", \"Question\"]).set_index(0).sort_index()\n",
    "    return chunk_df\n",
    "\n",
    "chunk_df = collect_chunks()\n",
    "\n",
    "cri_chunk_out = pd.concat([cri_out, chunk_df], axis=1)\n",
    "cri_chunk_out.to_json(out_dir + \"cri.jsonl\", orient=\"records\", lines=True)"
   ]
  },
  {
   "cell_type": "markdown",
   "id": "8602369f-9093-474a-91bb-e161ed7b2d28",
   "metadata": {},
   "source": [
    "# Chat"
   ]
  },
  {
   "cell_type": "code",
   "execution_count": 57,
   "id": "e7a3dc49-b9da-4869-b9dd-21addefa8cb7",
   "metadata": {},
   "outputs": [],
   "source": [
    "chat_data_path = \"~/active-projects/2024.03-itell-cornell/data/consented_supabase_tables_anonymized/chat_messages_rows.csv\"\n",
    "\n",
    "chat = pd.read_csv(chat_data_path)"
   ]
  },
  {
   "cell_type": "code",
   "execution_count": 46,
   "id": "fc737152-dc12-4f12-a194-f5e0fafa5a22",
   "metadata": {},
   "outputs": [],
   "source": [
    "import json\n",
    "from copy import deepcopy\n",
    "\n",
    "def accumulate(row):\n",
    "    messages = iter(json.loads(row.data))\n",
    "\n",
    "    query = {\n",
    "        \"page_slug\": row.page_slug\n",
    "    }\n",
    "    history = []\n",
    "\n",
    "    for msg in messages:\n",
    "        if msg[\"isUser\"] is True:\n",
    "            query[\"history\"] = history\n",
    "            query[\"message\"] = msg[\"text\"]\n",
    "            yield deepcopy(query)\n",
    "        \n",
    "        history.append({\n",
    "            \"agent\": \"user\" if msg[\"isUser\"] else \"bot\",\n",
    "            \"text\": msg[\"text\"]\n",
    "        })\n",
    "\n",
    "chat_queries = []\n",
    "\n",
    "for row in chat.itertuples():\n",
    "    for query in accumulate(row):\n",
    "        chat_queries.append(query)"
   ]
  },
  {
   "cell_type": "code",
   "execution_count": 53,
   "id": "1d16f084-2f84-49bd-8578-5a0784aabe2f",
   "metadata": {},
   "outputs": [
    {
     "data": {
      "text/html": [
       "<div>\n",
       "<style scoped>\n",
       "    .dataframe tbody tr th:only-of-type {\n",
       "        vertical-align: middle;\n",
       "    }\n",
       "\n",
       "    .dataframe tbody tr th {\n",
       "        vertical-align: top;\n",
       "    }\n",
       "\n",
       "    .dataframe thead th {\n",
       "        text-align: right;\n",
       "    }\n",
       "</style>\n",
       "<table border=\"1\" class=\"dataframe\">\n",
       "  <thead>\n",
       "    <tr style=\"text-align: right;\">\n",
       "      <th></th>\n",
       "      <th>page_slug</th>\n",
       "      <th>history</th>\n",
       "      <th>message</th>\n",
       "    </tr>\n",
       "  </thead>\n",
       "  <tbody>\n",
       "    <tr>\n",
       "      <th>56</th>\n",
       "      <td>learning-analytics-for-self-regulated-learning</td>\n",
       "      <td>[{'agent': 'user', 'text': 'what is the purpos...</td>\n",
       "      <td>what is copes?</td>\n",
       "    </tr>\n",
       "    <tr>\n",
       "      <th>66</th>\n",
       "      <td>learning-analytics-for-self-regulated-learning</td>\n",
       "      <td>[]</td>\n",
       "      <td>what can you do?</td>\n",
       "    </tr>\n",
       "    <tr>\n",
       "      <th>90</th>\n",
       "      <td>learning-analytics-for-self-regulated-learning</td>\n",
       "      <td>[]</td>\n",
       "      <td>what is copes</td>\n",
       "    </tr>\n",
       "    <tr>\n",
       "      <th>36</th>\n",
       "      <td>learning-analytics-for-self-regulated-learning</td>\n",
       "      <td>[{'agent': 'user', 'text': 'I finished reading...</td>\n",
       "      <td>they haven't gotten back to me</td>\n",
       "    </tr>\n",
       "    <tr>\n",
       "      <th>104</th>\n",
       "      <td>emotional</td>\n",
       "      <td>[]</td>\n",
       "      <td>What is this chapter about</td>\n",
       "    </tr>\n",
       "  </tbody>\n",
       "</table>\n",
       "</div>"
      ],
      "text/plain": [
       "                                          page_slug  \\\n",
       "56   learning-analytics-for-self-regulated-learning   \n",
       "66   learning-analytics-for-self-regulated-learning   \n",
       "90   learning-analytics-for-self-regulated-learning   \n",
       "36   learning-analytics-for-self-regulated-learning   \n",
       "104                                       emotional   \n",
       "\n",
       "                                               history  \\\n",
       "56   [{'agent': 'user', 'text': 'what is the purpos...   \n",
       "66                                                  []   \n",
       "90                                                  []   \n",
       "36   [{'agent': 'user', 'text': 'I finished reading...   \n",
       "104                                                 []   \n",
       "\n",
       "                             message  \n",
       "56                    what is copes?  \n",
       "66                  what can you do?  \n",
       "90                     what is copes  \n",
       "36   they haven't gotten back to me   \n",
       "104       What is this chapter about  "
      ]
     },
     "metadata": {},
     "output_type": "display_data"
    }
   ],
   "source": [
    "chat_out = pd.DataFrame(chat_queries)\n",
    "display(chat_out.sample(5))\n",
    "chat_out.to_json(out_dir + \"chat.jsonl\", orient=\"records\", lines=True)"
   ]
  }
 ],
 "metadata": {
  "kernelspec": {
   "display_name": "Python [conda env:hf]",
   "language": "python",
   "name": "conda-env-hf-py"
  },
  "language_info": {
   "codemirror_mode": {
    "name": "ipython",
    "version": 3
   },
   "file_extension": ".py",
   "mimetype": "text/x-python",
   "name": "python",
   "nbconvert_exporter": "python",
   "pygments_lexer": "ipython3",
   "version": "3.11.6"
  }
 },
 "nbformat": 4,
 "nbformat_minor": 5
}
