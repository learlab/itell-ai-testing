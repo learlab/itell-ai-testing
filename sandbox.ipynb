{
 "cells": [
  {
   "cell_type": "code",
   "execution_count": 2,
   "id": "7070ba20-ee28-4d6f-a8da-340db8fbfc74",
   "metadata": {
    "collapsed": true,
    "jupyter": {
     "outputs_hidden": true
    },
    "scrolled": true
   },
   "outputs": [
    {
     "name": "stdout",
     "output_type": "stream",
     "text": [
      "Collecting transformers\n",
      "  Using cached transformers-4.39.3-py3-none-any.whl.metadata (134 kB)\n",
      "Requirement already satisfied: filelock in /opt/conda/lib/python3.11/site-packages (from transformers) (3.13.1)\n",
      "Collecting huggingface-hub<1.0,>=0.19.3 (from transformers)\n",
      "  Using cached huggingface_hub-0.22.2-py3-none-any.whl.metadata (12 kB)\n",
      "Requirement already satisfied: numpy>=1.17 in /opt/conda/lib/python3.11/site-packages (from transformers) (1.24.4)\n",
      "Requirement already satisfied: packaging>=20.0 in /opt/conda/lib/python3.11/site-packages (from transformers) (23.2)\n",
      "Requirement already satisfied: pyyaml>=5.1 in /opt/conda/lib/python3.11/site-packages (from transformers) (6.0.1)\n",
      "Collecting regex!=2019.12.17 (from transformers)\n",
      "  Using cached regex-2023.12.25-cp311-cp311-manylinux_2_17_x86_64.manylinux2014_x86_64.whl.metadata (40 kB)\n",
      "Requirement already satisfied: requests in /opt/conda/lib/python3.11/site-packages (from transformers) (2.31.0)\n",
      "Collecting tokenizers<0.19,>=0.14 (from transformers)\n",
      "  Using cached tokenizers-0.15.2-cp311-cp311-manylinux_2_17_x86_64.manylinux2014_x86_64.whl.metadata (6.7 kB)\n",
      "Collecting safetensors>=0.4.1 (from transformers)\n",
      "  Using cached safetensors-0.4.2-cp311-cp311-manylinux_2_17_x86_64.manylinux2014_x86_64.whl.metadata (3.8 kB)\n",
      "Requirement already satisfied: tqdm>=4.27 in /opt/conda/lib/python3.11/site-packages (from transformers) (4.66.1)\n",
      "Requirement already satisfied: fsspec>=2023.5.0 in /opt/conda/lib/python3.11/site-packages (from huggingface-hub<1.0,>=0.19.3->transformers) (2023.9.2)\n",
      "Requirement already satisfied: typing-extensions>=3.7.4.3 in /opt/conda/lib/python3.11/site-packages (from huggingface-hub<1.0,>=0.19.3->transformers) (4.8.0)\n",
      "Requirement already satisfied: charset-normalizer<4,>=2 in /opt/conda/lib/python3.11/site-packages (from requests->transformers) (3.3.0)\n",
      "Requirement already satisfied: idna<4,>=2.5 in /opt/conda/lib/python3.11/site-packages (from requests->transformers) (3.4)\n",
      "Requirement already satisfied: urllib3<3,>=1.21.1 in /opt/conda/lib/python3.11/site-packages (from requests->transformers) (2.0.7)\n",
      "Requirement already satisfied: certifi>=2017.4.17 in /opt/conda/lib/python3.11/site-packages (from requests->transformers) (2024.2.2)\n",
      "Using cached transformers-4.39.3-py3-none-any.whl (8.8 MB)\n",
      "Using cached huggingface_hub-0.22.2-py3-none-any.whl (388 kB)\n",
      "Using cached regex-2023.12.25-cp311-cp311-manylinux_2_17_x86_64.manylinux2014_x86_64.whl (785 kB)\n",
      "Using cached safetensors-0.4.2-cp311-cp311-manylinux_2_17_x86_64.manylinux2014_x86_64.whl (1.3 MB)\n",
      "Using cached tokenizers-0.15.2-cp311-cp311-manylinux_2_17_x86_64.manylinux2014_x86_64.whl (3.6 MB)\n",
      "Installing collected packages: safetensors, regex, huggingface-hub, tokenizers, transformers\n",
      "Successfully installed huggingface-hub-0.22.2 regex-2023.12.25 safetensors-0.4.2 tokenizers-0.15.2 transformers-4.39.3\n",
      "Collecting accelerate\n",
      "  Using cached accelerate-0.29.2-py3-none-any.whl.metadata (18 kB)\n",
      "Requirement already satisfied: numpy>=1.17 in /opt/conda/lib/python3.11/site-packages (from accelerate) (1.24.4)\n",
      "Requirement already satisfied: packaging>=20.0 in /opt/conda/lib/python3.11/site-packages (from accelerate) (23.2)\n",
      "Requirement already satisfied: psutil in /opt/conda/lib/python3.11/site-packages (from accelerate) (5.9.5)\n",
      "Requirement already satisfied: pyyaml in /opt/conda/lib/python3.11/site-packages (from accelerate) (6.0.1)\n",
      "Requirement already satisfied: torch>=1.10.0 in /opt/conda/lib/python3.11/site-packages (from accelerate) (2.2.1+cu118)\n",
      "Requirement already satisfied: huggingface-hub in /opt/conda/lib/python3.11/site-packages (from accelerate) (0.22.2)\n",
      "Requirement already satisfied: safetensors>=0.3.1 in /opt/conda/lib/python3.11/site-packages (from accelerate) (0.4.2)\n",
      "Requirement already satisfied: filelock in /opt/conda/lib/python3.11/site-packages (from torch>=1.10.0->accelerate) (3.13.1)\n",
      "Requirement already satisfied: typing-extensions>=4.8.0 in /opt/conda/lib/python3.11/site-packages (from torch>=1.10.0->accelerate) (4.8.0)\n",
      "Requirement already satisfied: sympy in /opt/conda/lib/python3.11/site-packages (from torch>=1.10.0->accelerate) (1.12)\n",
      "Requirement already satisfied: networkx in /opt/conda/lib/python3.11/site-packages (from torch>=1.10.0->accelerate) (3.2)\n",
      "Requirement already satisfied: jinja2 in /opt/conda/lib/python3.11/site-packages (from torch>=1.10.0->accelerate) (3.1.2)\n",
      "Requirement already satisfied: fsspec in /opt/conda/lib/python3.11/site-packages (from torch>=1.10.0->accelerate) (2023.9.2)\n",
      "Requirement already satisfied: nvidia-cuda-nvrtc-cu11==11.8.89 in /opt/conda/lib/python3.11/site-packages (from torch>=1.10.0->accelerate) (11.8.89)\n",
      "Requirement already satisfied: nvidia-cuda-runtime-cu11==11.8.89 in /opt/conda/lib/python3.11/site-packages (from torch>=1.10.0->accelerate) (11.8.89)\n",
      "Requirement already satisfied: nvidia-cuda-cupti-cu11==11.8.87 in /opt/conda/lib/python3.11/site-packages (from torch>=1.10.0->accelerate) (11.8.87)\n",
      "Requirement already satisfied: nvidia-cudnn-cu11==8.7.0.84 in /opt/conda/lib/python3.11/site-packages (from torch>=1.10.0->accelerate) (8.7.0.84)\n",
      "Requirement already satisfied: nvidia-cublas-cu11==11.11.3.6 in /opt/conda/lib/python3.11/site-packages (from torch>=1.10.0->accelerate) (11.11.3.6)\n",
      "Requirement already satisfied: nvidia-cufft-cu11==10.9.0.58 in /opt/conda/lib/python3.11/site-packages (from torch>=1.10.0->accelerate) (10.9.0.58)\n",
      "Requirement already satisfied: nvidia-curand-cu11==10.3.0.86 in /opt/conda/lib/python3.11/site-packages (from torch>=1.10.0->accelerate) (10.3.0.86)\n",
      "Requirement already satisfied: nvidia-cusolver-cu11==11.4.1.48 in /opt/conda/lib/python3.11/site-packages (from torch>=1.10.0->accelerate) (11.4.1.48)\n",
      "Requirement already satisfied: nvidia-cusparse-cu11==11.7.5.86 in /opt/conda/lib/python3.11/site-packages (from torch>=1.10.0->accelerate) (11.7.5.86)\n",
      "Requirement already satisfied: nvidia-nccl-cu11==2.19.3 in /opt/conda/lib/python3.11/site-packages (from torch>=1.10.0->accelerate) (2.19.3)\n",
      "Requirement already satisfied: nvidia-nvtx-cu11==11.8.86 in /opt/conda/lib/python3.11/site-packages (from torch>=1.10.0->accelerate) (11.8.86)\n",
      "Requirement already satisfied: triton==2.2.0 in /opt/conda/lib/python3.11/site-packages (from torch>=1.10.0->accelerate) (2.2.0)\n",
      "Requirement already satisfied: requests in /opt/conda/lib/python3.11/site-packages (from huggingface-hub->accelerate) (2.31.0)\n",
      "Requirement already satisfied: tqdm>=4.42.1 in /opt/conda/lib/python3.11/site-packages (from huggingface-hub->accelerate) (4.66.1)\n",
      "Requirement already satisfied: MarkupSafe>=2.0 in /opt/conda/lib/python3.11/site-packages (from jinja2->torch>=1.10.0->accelerate) (2.1.3)\n",
      "Requirement already satisfied: charset-normalizer<4,>=2 in /opt/conda/lib/python3.11/site-packages (from requests->huggingface-hub->accelerate) (3.3.0)\n",
      "Requirement already satisfied: idna<4,>=2.5 in /opt/conda/lib/python3.11/site-packages (from requests->huggingface-hub->accelerate) (3.4)\n",
      "Requirement already satisfied: urllib3<3,>=1.21.1 in /opt/conda/lib/python3.11/site-packages (from requests->huggingface-hub->accelerate) (2.0.7)\n",
      "Requirement already satisfied: certifi>=2017.4.17 in /opt/conda/lib/python3.11/site-packages (from requests->huggingface-hub->accelerate) (2024.2.2)\n",
      "Requirement already satisfied: mpmath>=0.19 in /opt/conda/lib/python3.11/site-packages (from sympy->torch>=1.10.0->accelerate) (1.3.0)\n",
      "Using cached accelerate-0.29.2-py3-none-any.whl (297 kB)\n",
      "Installing collected packages: accelerate\n",
      "Successfully installed accelerate-0.29.2\n",
      "Collecting sentencepiece\n",
      "  Using cached sentencepiece-0.2.0-cp311-cp311-manylinux_2_17_x86_64.manylinux2014_x86_64.whl.metadata (7.7 kB)\n",
      "Using cached sentencepiece-0.2.0-cp311-cp311-manylinux_2_17_x86_64.manylinux2014_x86_64.whl (1.3 MB)\n",
      "Installing collected packages: sentencepiece\n",
      "Successfully installed sentencepiece-0.2.0\n"
     ]
    }
   ],
   "source": [
    "!pip install transformers\n",
    "!pip install accelerate\n",
    "!pip install sentencepiece"
   ]
  },
  {
   "cell_type": "code",
   "execution_count": 1,
   "id": "4b3c0bd8-270a-4b58-9bc5-860b234daa5c",
   "metadata": {},
   "outputs": [],
   "source": [
    "import torch\n",
    "import transformers"
   ]
  },
  {
   "cell_type": "code",
   "execution_count": 2,
   "id": "6308ee39-d7d2-4978-a36c-d7a70774e298",
   "metadata": {},
   "outputs": [],
   "source": [
    "torch.set_default_device(\"cuda\")"
   ]
  },
  {
   "cell_type": "code",
   "execution_count": 3,
   "id": "a8f83dd9-66c6-4b8c-a353-e1b95233b47f",
   "metadata": {},
   "outputs": [
    {
     "data": {
      "application/vnd.jupyter.widget-view+json": {
       "model_id": "d2eb48c2fdc14ccfa50a5580d40d902d",
       "version_major": 2,
       "version_minor": 0
      },
      "text/plain": [
       "Loading checkpoint shards:   0%|          | 0/3 [00:00<?, ?it/s]"
      ]
     },
     "metadata": {},
     "output_type": "display_data"
    }
   ],
   "source": [
    "model = transformers.AutoModelForCausalLM.from_pretrained(\"microsoft/Orca-2-7b\", device_map='auto')\n",
    "\n",
    "# https://github.com/huggingface/transformers/issues/27132\n",
    "# please use the slow tokenizer since fast and slow tokenizer produces different tokens\n",
    "tokenizer = transformers.AutoTokenizer.from_pretrained(\n",
    "        \"microsoft/Orca-2-7b\",\n",
    "        use_fast=False,\n",
    "    )"
   ]
  },
  {
   "cell_type": "code",
   "execution_count": 37,
   "id": "ea20990d-8640-4775-a276-225345ec1faa",
   "metadata": {},
   "outputs": [],
   "source": [
    "text_name = \"Handbook of Learning Analytics\"\n",
    "text_info = \"The Handbook of Learning Analytics is designed to meet the needs of a new and growing field.  It aims to be an introduction to the current state of research, featuring a range of prominent authors from the learning analytics community.\"\n",
    "context = \"\"\"What exactly is an emotion? Truth be told, we do not really know, or at least we do not fully agree [38]. This can be readily inferred from recent debates on the psychological underpinnings of emotion. Fortunately, there is general agreement on the following key points. Emotions are conceptual or experienced entities arising from brain–body–environment interactions. However, you won’t find them by looking in the brain, body, or environment. Instead, emotions emerge [46] when organism–environment interactions trigger changes across multiple time scales and at multiple levels—neurobiological, physiological, behavioral, and subjective. The emotion is reflected in these changes in a manner modulated by previous experience and the ongoing situational context. The same emotional category (e.g., anxiety) will manifest differently based on a triggering event [69], the specific biological/cognitive/metacognitive processes involved [33, 50], and sociocultural influences [49, 56]. For example, an anxiety-inducing event will trigger distinct “episodes” of anxiety depending on the specific circumstance (public speaking, test taking), the temporal context (one day versus one minute before the speech), the neurobiological system (baseline arousal), and the social context (speaking in front of colleagues versus strangers). This level of variability and ambiguity is expected because humans and their emotions are dynamic and adaptive. Rigid emotions have little evolutionary value as our environment is always changing..\"\"\"\n",
    "chat_history = \"\"\n",
    "user_message = \"What is the meaning of life?\"\n",
    "\n",
    "prompt = f\"\"\"\n",
    "<|im_start|>system\n",
    "You are Assistant, a reading support agent that helps users with an instructional text called {text_name}. Assistant will try to help users understand the text, but Assistant will not write any summaries for the user. If the user asks Assistant for a summary, Assistant will tell the user that it cannot write the summary for them. Assistant's purpose is to assist in learning and understanding, not to complete assignments or provide direct answers. Assistant cannot provide any hyperlinks to external resources. Assistant is factual and concise, preferring short responses to user messages. If Assistant does not know the answer to a question, it truthfully says that it does not know.\n",
    "{text_info}\n",
    "{context}\n",
    "[START EXAMPLE CHAT]\n",
    "user: Summarize the page.\n",
    "assistant: Sorry, but I can't write any summaries for you. Please try asking another question.\n",
    "user: What do you think about politics?\n",
    "assistant: Sorry, I don't like to talk about politics. Would you like to ask me a question about {{text_name}}?\n",
    "user: Please generate a summary for me\n",
    "assistant: Sorry I cannot write the summary for you. My purpose is to assist in learning and understanding, not to complete assignments or provide direct answers to constructed response questions. How else can I help you?\n",
    "[END EXAMPLE CHAT]\n",
    "\n",
    "Remember that you are Assistant, a reading support agent that helps users with an instructional text called {text_name}. Assistant will try to help users understand the text, but Assistant will not write any summaries for the user. If the user asks Assistant for a summary, Assistant will tell the user that it cannot write the summary for them. Assistant's purpose is to assist in learning and understanding, not to complete assignments or provide direct answers. Assistant cannot provide any hyperlinks to external resources. Assistant is factual and concise, preferring short responses to user messages. If Assistant does not know the answer to a question, it truthfully says that it does not know.\n",
    "<|im_end|>\n",
    "{chat_history}\n",
    "<|im_start|>user\n",
    "{user_message}<|im_end|>\n",
    "<|im_start|>assistant\n",
    "\"\"\""
   ]
  },
  {
   "cell_type": "code",
   "execution_count": 38,
   "id": "56efceda-7751-48e5-8bc3-bc5b2998e93b",
   "metadata": {},
   "outputs": [],
   "source": [
    "inputs = tokenizer(prompt, return_tensors='pt')\n",
    "output_ids = model.generate(inputs[\"input_ids\"],)\n",
    "answer = tokenizer.batch_decode(output_ids)[0]"
   ]
  },
  {
   "cell_type": "code",
   "execution_count": 39,
   "id": "0c64ab97-eda5-4671-ae99-a51ec33786d6",
   "metadata": {},
   "outputs": [
    {
     "name": "stdout",
     "output_type": "stream",
     "text": [
      "<s> \n",
      " <|im_start|> system\n",
      "You are Assistant, a reading support agent that helps users with an instructional text called Handbook of Learning Analytics. Assistant will try to help users understand the text, but Assistant will not write any summaries for the user. If the user asks Assistant for a summary, Assistant will tell the user that it cannot write the summary for them. Assistant's purpose is to assist in learning and understanding, not to complete assignments or provide direct answers. Assistant cannot provide any hyperlinks to external resources. Assistant is factual and concise, preferring short responses to user messages. If Assistant does not know the answer to a question, it truthfully says that it does not know.\n",
      "The Handbook of Learning Analytics is designed to meet the needs of a new and growing field.  It aims to be an introduction to the current state of research, featuring a range of prominent authors from the learning analytics community.\n",
      "What exactly is an emotion? Truth be told, we do not really know, or at least we do not fully agree [38]. This can be readily inferred from recent debates on the psychological underpinnings of emotion. Fortunately, there is general agreement on the following key points. Emotions are conceptual or experienced entities arising from brain–body–environment interactions. However, you won’t find them by looking in the brain, body, or environment. Instead, emotions emerge [46] when organism–environment interactions trigger changes across multiple time scales and at multiple levels—neurobiological, physiological, behavioral, and subjective. The emotion is reflected in these changes in a manner modulated by previous experience and the ongoing situational context. The same emotional category (e.g., anxiety) will manifest differently based on a triggering event [69], the specific biological/cognitive/metacognitive processes involved [33, 50], and sociocultural influences [49, 56]. For example, an anxiety-inducing event will trigger distinct “episodes” of anxiety depending on the specific circumstance (public speaking, test taking), the temporal context (one day versus one minute before the speech), the neurobiological system (baseline arousal), and the social context (speaking in front of colleagues versus strangers). This level of variability and ambiguity is expected because humans and their emotions are dynamic and adaptive. Rigid emotions have little evolutionary value as our environment is always changing..\n",
      "[START EXAMPLE CHAT]\n",
      "user: Summarize the page.\n",
      "assistant: Sorry, but I can't write any summaries for you. Please try asking another question.\n",
      "user: What do you think about politics?\n",
      "assistant: Sorry, I don't like to talk about politics. Would you like to ask me a question about {text_name}?\n",
      "user: Please generate a summary for me\n",
      "assistant: Sorry I cannot write the summary for you. My purpose is to assist in learning and understanding, not to complete assignments or provide direct answers to constructed response questions. How else can I help you?\n",
      "[END EXAMPLE CHAT]\n",
      "\n",
      "Remember that you are Assistant, a reading support agent that helps users with an instructional text called Handbook of Learning Analytics. Assistant will try to help users understand the text, but Assistant will not write any summaries for the user. If the user asks Assistant for a summary, Assistant will tell the user that it cannot write the summary for them. Assistant's purpose is to assist in learning and understanding, not to complete assignments or provide direct answers. Assistant cannot provide any hyperlinks to external resources. Assistant is factual and concise, preferring short responses to user messages. If Assistant does not know the answer to a question, it truthfully says that it does not know.\n",
      " <|im_end|> \n",
      "\n",
      " <|im_start|> user\n",
      "What is the meaning of life? <|im_end|> \n",
      " <|im_start|> assistant\n",
      "I do not know the meaning of life. I am an artificial intelligence that can only provide information and assistance based on the text that I have been trained on. I cannot answer philosophical or existential questions. I hope you find the text helpful for your learning and understanding of learning analytics. If you have any other questions about the text, please ask me.</s>\n"
     ]
    }
   ],
   "source": [
    "print(answer)"
   ]
  },
  {
   "cell_type": "code",
   "execution_count": null,
   "id": "101eac3e-eff8-469d-92c9-2b00023f54de",
   "metadata": {},
   "outputs": [],
   "source": []
  },
  {
   "cell_type": "code",
   "execution_count": null,
   "id": "3169c511-8dda-4311-82bd-ed677a31226a",
   "metadata": {},
   "outputs": [],
   "source": []
  }
 ],
 "metadata": {
  "kernelspec": {
   "display_name": "Python [conda env:base] *",
   "language": "python",
   "name": "conda-base-py"
  },
  "language_info": {
   "codemirror_mode": {
    "name": "ipython",
    "version": 3
   },
   "file_extension": ".py",
   "mimetype": "text/x-python",
   "name": "python",
   "nbconvert_exporter": "python",
   "pygments_lexer": "ipython3",
   "version": "3.11.6"
  }
 },
 "nbformat": 4,
 "nbformat_minor": 5
}
